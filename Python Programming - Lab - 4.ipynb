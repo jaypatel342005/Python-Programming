{
 "cells": [
  {
   "cell_type": "markdown",
   "metadata": {},
   "source": [
    "\n",
    "<a href='https://www.darshan.ac.in/'> <img src='https://www.darshan.ac.in/Content/media/DU_Logo.svg' width=\"250\" height=\"300\"/></a>\n",
    "<pre>\n",
    "<center><b><h1>Python Programming - 2301CS404</b></center>\n",
    "<center><b><h1>Lab - 4</b></center>    \n",
    "<pre>"
   ]
  },
  {
   "cell_type": "markdown",
   "metadata": {},
   "source": [
    "<center><b><h1>DARSHAN UNIVERSITY</b></center>\n",
    "<br>\n",
    "<center><b><h1> JAY PATEL</b></center>\n",
    "<center><b><h1>23010101201</b></center> \n",
    "<center><b><h1>136</b></center>   \n"
   ]
  },
  {
   "cell_type": "markdown",
   "metadata": {},
   "source": [
    "# String"
   ]
  },
  {
   "cell_type": "markdown",
   "metadata": {},
   "source": [
    "### 01) WAP to check whether the given string is palindrome or not."
   ]
  },
  {
   "cell_type": "code",
   "execution_count": 1,
   "metadata": {},
   "outputs": [
    {
     "name": "stdout",
     "output_type": "stream",
     "text": [
      "Enter a string :  npnpnpn\n"
     ]
    },
    {
     "name": "stdout",
     "output_type": "stream",
     "text": [
      "\"npnpnpn\" is a palindrome.\n"
     ]
    }
   ],
   "source": [
    "s = input(\"Enter a string : \")\n",
    "if s == s[::-1]:\n",
    "    print(f'\"{s}\" is a palindrome.')\n",
    "else:\n",
    "    print(f'\"{s}\" is not a palindrome.')"
   ]
  },
  {
   "cell_type": "markdown",
   "metadata": {},
   "source": [
    "### 02) WAP to reverse the words in the given string."
   ]
  },
  {
   "cell_type": "code",
   "execution_count": 10,
   "metadata": {},
   "outputs": [
    {
     "name": "stdout",
     "output_type": "stream",
     "text": [
      "enter the string to reverse the words in the given string :  jay patel\n"
     ]
    },
    {
     "name": "stdout",
     "output_type": "stream",
     "text": [
      "reversed string is :  letap yaj\n"
     ]
    }
   ],
   "source": [
    "s1 = input(\"enter the string to reverse the words in the given string : \")\n",
    "\n",
    "reversed_words = s1[::-1]\n",
    "\n",
    "print(\"reversed string is : \", reversed_words)\n"
   ]
  },
  {
   "cell_type": "markdown",
   "metadata": {},
   "source": [
    "### 03) WAP to remove ith character from given string."
   ]
  },
  {
   "cell_type": "code",
   "execution_count": 11,
   "metadata": {},
   "outputs": [
    {
     "name": "stdout",
     "output_type": "stream",
     "text": [
      "enter the string to remove ith character :  Darsshan\n",
      "enter the index to remove character :  4\n"
     ]
    },
    {
     "name": "stdout",
     "output_type": "stream",
     "text": [
      "modified string is :  Darshan\n"
     ]
    }
   ],
   "source": [
    "s2 = input(\"enter the string to remove ith character : \")\n",
    "\n",
    "i = int(input(\"enter the index to remove character : \"))\n",
    "\n",
    "s2 = s2[:i] + s2[i+1:]\n",
    "\n",
    "print(\"modified string is : \", s2)"
   ]
  },
  {
   "cell_type": "markdown",
   "metadata": {},
   "source": [
    "### 04) WAP to find length of string without using len function."
   ]
  },
  {
   "cell_type": "code",
   "execution_count": 12,
   "metadata": {},
   "outputs": [
    {
     "name": "stdout",
     "output_type": "stream",
     "text": [
      "enter the string to find length of string :  Jay Patel\n"
     ]
    },
    {
     "name": "stdout",
     "output_type": "stream",
     "text": [
      "the length of string is :  9\n"
     ]
    }
   ],
   "source": [
    "string1 = input(\"enter the string to find length of string : \")\n",
    " \n",
    "count = 0\n",
    "\n",
    "for i in string1:\n",
    "    count += 1\n",
    "\n",
    "print(\"the length of string is : \", count)"
   ]
  },
  {
   "cell_type": "markdown",
   "metadata": {},
   "source": [
    "### 05) WAP to print even length word in string."
   ]
  },
  {
   "cell_type": "code",
   "execution_count": null,
   "metadata": {},
   "outputs": [],
   "source": []
  },
  {
   "cell_type": "markdown",
   "metadata": {},
   "source": [
    "### 06) WAP to count numbers of vowels in given string."
   ]
  },
  {
   "cell_type": "code",
   "execution_count": 13,
   "metadata": {},
   "outputs": [
    {
     "name": "stdout",
     "output_type": "stream",
     "text": [
      "enter the string to count number of vowels :  Darshan University\n"
     ]
    },
    {
     "name": "stdout",
     "output_type": "stream",
     "text": [
      "Number of vowels in the string is : 6\n"
     ]
    }
   ],
   "source": [
    "s4 = input('enter the string to count number of vowels : ')\n",
    "\n",
    "vowels = 'aeiouAEIOU'\n",
    "\n",
    "count = 0\n",
    "\n",
    "for char in s4:\n",
    "    if char in vowels:\n",
    "        count += 1\n",
    "\n",
    "print(f'Number of vowels in the string is : {count}')\n",
    "\n"
   ]
  },
  {
   "cell_type": "markdown",
   "metadata": {},
   "source": [
    "### 07) WAP to capitalize the first and last character of each word in a string."
   ]
  },
  {
   "cell_type": "code",
   "execution_count": 15,
   "metadata": {},
   "outputs": [
    {
     "name": "stdout",
     "output_type": "stream",
     "text": [
      "enter string :  good morning sir \n"
     ]
    },
    {
     "name": "stdout",
     "output_type": "stream",
     "text": [
      "capitalized string is :  Good Morning Sir\n"
     ]
    }
   ],
   "source": [
    "s6 = input(\"enter string : \")\n",
    "\n",
    "words = s6.split()\n",
    "\n",
    "capitalized_words = []\n",
    "\n",
    "for word in words:\n",
    "    capitalized_word = word[0:1].upper()+word[1:-1]+word[-1].upper()\n",
    "    capitalized_words.append(capitalized_word)\n",
    "\n",
    "capitalized_string =' '.join(capitalized_words)\n",
    "\n",
    "print(\"capitalized string is : \", capitalized_string)"
   ]
  },
  {
   "cell_type": "markdown",
   "metadata": {},
   "source": [
    "### 08) WAP to convert given array to string."
   ]
  },
  {
   "cell_type": "code",
   "execution_count": null,
   "metadata": {},
   "outputs": [],
   "source": []
  },
  {
   "cell_type": "markdown",
   "metadata": {},
   "source": [
    "### 09) Check if the password and confirm password is same or not. \n",
    "### In case of only case's mistake, show the error message."
   ]
  },
  {
   "cell_type": "code",
   "execution_count": null,
   "metadata": {},
   "outputs": [],
   "source": []
  },
  {
   "cell_type": "markdown",
   "metadata": {},
   "source": [
    "### 10) : Display credit card number. \n",
    "### card no. : 1234 5678 9012 3456\n",
    "### display as  : **** **** **** 3456"
   ]
  },
  {
   "cell_type": "code",
   "execution_count": 9,
   "metadata": {},
   "outputs": [
    {
     "name": "stdout",
     "output_type": "stream",
     "text": [
      "**** **** **** 1234\n"
     ]
    }
   ],
   "source": [
    "s9 = input(\"enter credit card number : \")\n",
    "\n",
    "demo = \"**** **** **** \"\n",
    "\n",
    "demo = demo + s9[-4:-1] + s9[-1]\n",
    "\n",
    "print(\"your credit card number is : \" + demo)\n",
    "\n"
   ]
  },
  {
   "cell_type": "markdown",
   "metadata": {},
   "source": [
    "### 11) : Checking if the two strings are Anagram or not.\n",
    "### s1 = decimal and s2 = medical are Anagram"
   ]
  },
  {
   "cell_type": "code",
   "execution_count": null,
   "metadata": {},
   "outputs": [],
   "source": []
  },
  {
   "cell_type": "markdown",
   "metadata": {},
   "source": [
    "### 12) : Rearrange the given string. First lowercase then uppercase alphabets.\n",
    "### input : EHlsarwiwhtwMV\n",
    "### output : lsarwiwhtwEHMV"
   ]
  },
  {
   "cell_type": "code",
   "execution_count": null,
   "metadata": {},
   "outputs": [],
   "source": []
  }
 ],
 "metadata": {
  "kernelspec": {
   "display_name": "Python 3",
   "language": "python",
   "name": "python3"
  },
  "language_info": {
   "codemirror_mode": {
    "name": "ipython",
    "version": 3
   },
   "file_extension": ".py",
   "mimetype": "text/x-python",
   "name": "python",
   "nbconvert_exporter": "python",
   "pygments_lexer": "ipython3",
   "version": "3.12.1"
  }
 },
 "nbformat": 4,
 "nbformat_minor": 4
}
