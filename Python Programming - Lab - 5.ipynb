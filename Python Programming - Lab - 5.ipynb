{
 "cells": [
  {
   "cell_type": "markdown",
   "metadata": {},
   "source": [
    "\n",
    "<a href='https://www.darshan.ac.in/'> <img src='https://www.darshan.ac.in/Content/media/DU_Logo.svg' width=\"250\" height=\"300\"/></a>\n",
    "<pre>\n",
    "<center><b><h1>Python Programming - 2301CS404</b></center>\n",
    "<center><b><h1>Lab - 5</b></center>    \n",
    "<pre>"
   ]
  },
  {
   "cell_type": "markdown",
   "metadata": {},
   "source": [
    "<center><b><h1>DARSHAN UNIVERSITY</b></center>\n",
    "<br>\n",
    "<center><b><h1> JAY PATEL</b></center>\n",
    "<center><b><h1>23010101201</b></center> \n",
    "<center><b><h1>136</b></center>   \n"
   ]
  },
  {
   "cell_type": "markdown",
   "metadata": {},
   "source": [
    "# List"
   ]
  },
  {
   "cell_type": "markdown",
   "metadata": {},
   "source": [
    "### 01) WAP to find sum of all the elements in a List."
   ]
  },
  {
   "cell_type": "code",
   "execution_count": 1,
   "metadata": {},
   "outputs": [
    {
     "name": "stdout",
     "output_type": "stream",
     "text": [
      "Sum of all elements in the list: 15\n"
     ]
    }
   ],
   "source": [
    "sample_list = [1, 2, 3, 4, 5]\n",
    "total_sum = 0\n",
    "\n",
    "for element in sample_list:\n",
    "    total_sum += element\n",
    "\n",
    "print(\"Sum of all elements in the list:\", total_sum)"
   ]
  },
  {
   "cell_type": "markdown",
   "metadata": {},
   "source": [
    "### 02) WAP to find largest element in a List."
   ]
  },
  {
   "cell_type": "code",
   "execution_count": 2,
   "metadata": {},
   "outputs": [
    {
     "name": "stdout",
     "output_type": "stream",
     "text": [
      "Max element in the list :  5\n"
     ]
    }
   ],
   "source": [
    "list2 = [1, 2, 3, 4, 5]\n",
    "\n",
    "max_element = list2[0]\n",
    "\n",
    "for element in list2:\n",
    "    if element > max_element:\n",
    "        max_element = element\n",
    "\n",
    "print(\"Max element in the list : \", max_element)"
   ]
  },
  {
   "cell_type": "markdown",
   "metadata": {},
   "source": [
    "### 03) WAP to find the length of a List."
   ]
  },
  {
   "cell_type": "code",
   "execution_count": 3,
   "metadata": {},
   "outputs": [
    {
     "name": "stdout",
     "output_type": "stream",
     "text": [
      "Number of elements in the list :  5\n"
     ]
    }
   ],
   "source": [
    "list3 = [1, 2, 3, 4, 5]\n",
    "count = 0\n",
    "\n",
    "for i in list3:\n",
    "    count += 1\n",
    "\n",
    "print(\"Number of elements in the list : \", count)"
   ]
  },
  {
   "cell_type": "markdown",
   "metadata": {},
   "source": [
    "### 04) WAP to interchange first and last elements in a list."
   ]
  },
  {
   "cell_type": "code",
   "execution_count": 4,
   "metadata": {},
   "outputs": [
    {
     "name": "stdout",
     "output_type": "stream",
     "text": [
      "List before interchanging first and last elements :  [1, 2, 3, 4, 5]\n",
      "List after interchanging first and last elements :  [5, 2, 3, 4, 1]\n"
     ]
    }
   ],
   "source": [
    "list4 = [1, 2, 3, 4, 5]\n",
    "\n",
    "print(\"List before interchanging first and last elements : \", list4)\n",
    "\n",
    "temp = list4[0]\n",
    "list4[0] = list4[-1]\n",
    "list4[-1] = temp\n",
    "\n",
    "print(\"List after interchanging first and last elements : \", list4)"
   ]
  },
  {
   "cell_type": "markdown",
   "metadata": {},
   "source": [
    "### 05) WAP to split the List into two parts and append the first part to the end."
   ]
  },
  {
   "cell_type": "code",
   "execution_count": 5,
   "metadata": {},
   "outputs": [
    {
     "name": "stdout",
     "output_type": "stream",
     "text": [
      "Original list: [1, 2, 3, 4, 5, 6, 7, 8, 9, 10]\n",
      "List after splitting and appending the first part to the end: [6, 7, 8, 9, 10, 1, 2, 3, 4, 5]\n"
     ]
    }
   ],
   "source": [
    "list5 = [1, 2, 3, 4, 5, 6, 7, 8, 9, 10]\n",
    "\n",
    "split_point = len(list5) // 2\n",
    "first_part = list5[:split_point]\n",
    "second_part = list5[split_point:]\n",
    "\n",
    "result_list = second_part + first_part\n",
    "\n",
    "print(\"Original list:\", list5)\n",
    "print(\"List after splitting and appending the first part to the end:\", result_list)\n"
   ]
  },
  {
   "cell_type": "markdown",
   "metadata": {},
   "source": [
    "### 06) WAP to interchange the elements on two positions entered by a user."
   ]
  },
  {
   "cell_type": "code",
   "execution_count": 6,
   "metadata": {},
   "outputs": [
    {
     "name": "stdout",
     "output_type": "stream",
     "text": [
      "Enter the number of elements in the list :  5\n",
      "Enter 0 the element :  1\n",
      "Enter 1 the element :  2\n",
      "Enter 2 the element :  3\n",
      "Enter 3 the element :  4\n",
      "Enter 4 the element :  5\n"
     ]
    },
    {
     "name": "stdout",
     "output_type": "stream",
     "text": [
      "List :  [1, 2, 3, 4, 5]\n"
     ]
    },
    {
     "name": "stdout",
     "output_type": "stream",
     "text": [
      "Enter the first position :  1\n",
      "Enter the second position :  3\n"
     ]
    },
    {
     "name": "stdout",
     "output_type": "stream",
     "text": [
      "List after swapping :  [1, 4, 3, 2, 5]\n"
     ]
    }
   ],
   "source": [
    "list6 = []\n",
    "length = int(input(\"Enter the number of elements in the list : \"))\n",
    "for i in range(length):\n",
    "    element = int(input(f\"Enter {i} the element : \"))\n",
    "    list6.append(element)\n",
    "\n",
    "print(\"List : \", list6)\n",
    "\n",
    "position1 = int(input(\"Enter the first position : \"))\n",
    "position2 = int(input(\"Enter the second position : \"))\n",
    "\n",
    "temp = list6[position1]\n",
    "list6[position1] = list6[position2]\n",
    "list6[position2] = temp\n",
    "print(\"List after swapping : \", list6)"
   ]
  },
  {
   "cell_type": "markdown",
   "metadata": {},
   "source": [
    "### 07) WAP to reverse the list entered by user."
   ]
  },
  {
   "cell_type": "code",
   "execution_count": 14,
   "metadata": {},
   "outputs": [
    {
     "name": "stdout",
     "output_type": "stream",
     "text": [
      "Enter the number of elements in the list :  4\n",
      "Enter 1 the element :  1\n",
      "Enter 2 the element :  2\n",
      "Enter 3 the element :  3\n",
      "Enter 4 the element :  4\n"
     ]
    },
    {
     "name": "stdout",
     "output_type": "stream",
     "text": [
      "Original list :  [1, 2, 3, 4]\n",
      "Reversed list :  [4, 3, 2, 1]\n"
     ]
    }
   ],
   "source": [
    "list7 = []\n",
    "length = int(input(\"Enter the number of elements in the list : \"))\n",
    "for i in range(length):\n",
    "    element = int(input(f\"Enter {i+1} the element : \"))\n",
    "    list7.append(element)\n",
    "\n",
    "print(\"Original list : \", list7)\n",
    "\n",
    "list8 = list7[::-1]\n",
    "print(\"Reversed list : \", list8)\n",
    "\n",
    "# list7.reverse()"
   ]
  },
  {
   "cell_type": "markdown",
   "metadata": {},
   "source": [
    "### 08) WAP to print even numbers in a list."
   ]
  },
  {
   "cell_type": "code",
   "execution_count": 16,
   "metadata": {},
   "outputs": [
    {
     "name": "stdout",
     "output_type": "stream",
     "text": [
      "Enter the number of elements in the list :  3\n",
      "Enter 1 the element :  1\n",
      "Enter 2 the element :  2\n",
      "Enter 3 the element :  4\n"
     ]
    },
    {
     "name": "stdout",
     "output_type": "stream",
     "text": [
      "Original list :  [1, 2, 4]\n",
      "Even numbers in the list :  [2, 4]\n"
     ]
    }
   ],
   "source": [
    "list9 = []\n",
    "length = int(input(\"Enter the number of elements in the list : \"))\n",
    "for i in range(length):\n",
    "    element = int(input(f\"Enter {i+1} the element : \"))\n",
    "    list9.append(element)\n",
    "\n",
    "print(\"Original list : \", list9)\n",
    "\n",
    "even_numbers = [num for num in list9 if num % 2 == 0]\n",
    "\n",
    "# even_numbers = []\n",
    "# for num in list9:\n",
    "#     if num % 2 == 0:\n",
    "#         even_numbers.append(num)\n",
    "\n",
    "print(\"Even numbers in the list : \", even_numbers)"
   ]
  },
  {
   "cell_type": "markdown",
   "metadata": {},
   "source": [
    "### 09) WAP to count unique items in a list."
   ]
  },
  {
   "cell_type": "code",
   "execution_count": 1,
   "metadata": {},
   "outputs": [
    {
     "name": "stdout",
     "output_type": "stream",
     "text": [
      "Enter the number of elements in the list :  5\n",
      "Enter 1 the element :  1\n",
      "Enter 2 the element :  1\n",
      "Enter 3 the element :  2\n",
      "Enter 4 the element :  2\n",
      "Enter 5 the element :  5\n"
     ]
    },
    {
     "name": "stdout",
     "output_type": "stream",
     "text": [
      "Number of unique items in the list: 3\n"
     ]
    }
   ],
   "source": [
    "list_l1 = []\n",
    "length = int(input(\"Enter the number of elements in the list : \"))\n",
    "for i in range(length):\n",
    "    element = int(input(f\"Enter {i+1} the element : \"))\n",
    "    list_l1.append(element)\n",
    "\n",
    "unique_items = set(list_l1)\n",
    "unique_count = len(unique_items)\n",
    "\n",
    "print(\"Number of unique items in the list:\", unique_count)"
   ]
  },
  {
   "cell_type": "markdown",
   "metadata": {},
   "source": [
    "### 10) WAP to copy a list."
   ]
  },
  {
   "cell_type": "code",
   "execution_count": 17,
   "metadata": {},
   "outputs": [
    {
     "name": "stdout",
     "output_type": "stream",
     "text": [
      "Enter the number of elements in the list :  3\n",
      "Enter 1 the element :  1\n",
      "Enter 2 the element :  2\n",
      "Enter 3 the element :  3\n"
     ]
    },
    {
     "name": "stdout",
     "output_type": "stream",
     "text": [
      "Original list :  [1, 2, 3]\n",
      "Copied list :  [1, 2, 3]\n"
     ]
    }
   ],
   "source": [
    "list10 = []\n",
    "length = int(input(\"Enter the number of elements in the list : \"))\n",
    "for i in range(length):\n",
    "    element = int(input(f\"Enter {i+1} the element : \"))\n",
    "    list10.append(element)\n",
    "\n",
    "print(\"Original list : \", list10)\n",
    "\n",
    "copied_list = list10.copy()\n",
    "print(\"Copied list : \", copied_list)"
   ]
  },
  {
   "cell_type": "markdown",
   "metadata": {},
   "source": [
    "### 11) WAP to print all odd numbers in a given range."
   ]
  },
  {
   "cell_type": "code",
   "execution_count": 10,
   "metadata": {},
   "outputs": [
    {
     "name": "stdout",
     "output_type": "stream",
     "text": [
      "Enter the start of the range:  1\n",
      "Enter the end of the range:  10\n"
     ]
    },
    {
     "name": "stdout",
     "output_type": "stream",
     "text": [
      "Odd numbers in the given range: [1, 3, 5, 7, 9]\n"
     ]
    }
   ],
   "source": [
    "start = int(input(\"Enter the start of the range: \"))\n",
    "end = int(input(\"Enter the end of the range: \"))\n",
    "\n",
    "odd_numbers = [num for num in range(start, end + 1) if num % 2 != 0]\n",
    "\n",
    "print(\"Odd numbers in the given range:\", odd_numbers)"
   ]
  },
  {
   "cell_type": "markdown",
   "metadata": {},
   "source": [
    "### 12) WAP to count occurrences of an element in a list."
   ]
  },
  {
   "cell_type": "code",
   "execution_count": 13,
   "metadata": {},
   "outputs": [
    {
     "name": "stdout",
     "output_type": "stream",
     "text": [
      "Enter the number of elements in the list :  5\n",
      "Enter 1 the element :  1\n",
      "Enter 2 the element :  2\n",
      "Enter 3 the element :  3\n",
      "Enter 4 the element :  1\n",
      "Enter 5 the element :  4\n",
      "Enter the element to count its occurrences :  1\n"
     ]
    },
    {
     "name": "stdout",
     "output_type": "stream",
     "text": [
      "The element 1 occurs 4 times in the list.\n"
     ]
    }
   ],
   "source": [
    "list_2 = []\n",
    "length = int(input(\"Enter the number of elements in the list : \"))\n",
    "for i in range(length):\n",
    "    element = int(input(f\"Enter {i+1} the element : \"))\n",
    "    list_2.append(element)\n",
    "\n",
    "element_to_count = int(input(\"Enter the element to count its occurrences : \"))\n",
    "occurrences = list_2.count(element_to_count)\n",
    "print(f\"The element {element_to_count} occurs {occurrences} times in the list.\")\n"
   ]
  },
  {
   "cell_type": "markdown",
   "metadata": {},
   "source": [
    "### 13) WAP to find second largest number in a list."
   ]
  },
  {
   "cell_type": "code",
   "execution_count": 18,
   "metadata": {},
   "outputs": [
    {
     "name": "stdout",
     "output_type": "stream",
     "text": [
      "Enter the number of elements in the list :  3\n",
      "Enter 1 the element :  1\n",
      "Enter 2 the element :  2\n",
      "Enter 3 the element :  4\n"
     ]
    },
    {
     "name": "stdout",
     "output_type": "stream",
     "text": [
      "second largest element in the list :  2\n"
     ]
    }
   ],
   "source": [
    "list_3 = []\n",
    "length = int(input(\"Enter the number of elements in the list : \"))\n",
    "for i in range(length):\n",
    "    element = int(input(f\"Enter {i+1} the element : \"))\n",
    "    list_3.append(element)\n",
    "\n",
    "list_3.sort(reverse=True)\n",
    "\n",
    "print(\"second largest element in the list : \", list_3[1])\n",
    "\n",
    "# max_element = list2[0]\n",
    "# second_max_element = list2[0]\n",
    "\n",
    "# for element in list2:\n",
    "#     if element > max_element:\n",
    "#         second_max_element = max_element\n",
    "#         max_element = element\n",
    "\n",
    "# print(\"Second largest element in the list : \", second_max_element)\n"
   ]
  },
  {
   "cell_type": "markdown",
   "metadata": {},
   "source": [
    "### 14) WAP to extract elements with frequency greater than K."
   ]
  },
  {
   "cell_type": "code",
   "execution_count": 4,
   "metadata": {},
   "outputs": [
    {
     "name": "stdout",
     "output_type": "stream",
     "text": [
      "Enter the number of elements in the list :  3\n",
      "Enter 1 the element :  1\n",
      "Enter 2 the element :  2\n",
      "Enter 3 the element :  3\n",
      "Enter the value of K :  2\n"
     ]
    },
    {
     "name": "stdout",
     "output_type": "stream",
     "text": [
      "Elements with frequency greater than 2 :  []\n"
     ]
    }
   ],
   "source": [
    "List_4 = []\n",
    "length = int(input(\"Enter the number of elements in the list : \"))\n",
    "for i in range(length):\n",
    "    element = int(input(f\"Enter {i+1} the element : \"))\n",
    "    List_4.append(element)\n",
    "\n",
    "k = int(input(\"Enter the value of K : \"))\n",
    "\n",
    "res = []\n",
    "\n",
    "List_4.sort()\n",
    "for i in List_4:\n",
    "    freq = List_4.count(i) \n",
    "    if freq > k and i not in res:\n",
    "        res.append(i)\n",
    "\n",
    "print(f\"Elements with frequency greater than {k} : \", res)\n"
   ]
  },
  {
   "cell_type": "markdown",
   "metadata": {},
   "source": [
    "### 15) WAP to create a list of squared numbers from 0 to 9 with and without using List Comprehension."
   ]
  },
  {
   "cell_type": "code",
   "execution_count": 1,
   "metadata": {},
   "outputs": [
    {
     "name": "stdout",
     "output_type": "stream",
     "text": [
      "List of squares of numbers from 0 to 9 (with using List Comprehension) :  [0, 1, 4, 9, 16, 25, 36, 49, 64, 81]\n",
      "List of squares of numbers from 0 to 9 (without using List Comprehension) :  [0, 1, 4, 9, 16, 25, 36, 49, 64, 81]\n"
     ]
    }
   ],
   "source": [
    "list_5 = [i**2 for i in range(0,10)]\n",
    "print(\"List of squares of numbers from 0 to 9 (with using List Comprehension) : \", list_5)\n",
    "\n",
    "list_6 =[0,1,2,3,4,5,6,7,8,9]\n",
    "\n",
    "for i in range(10):\n",
    "    list_6[i] = list_6[i]**2\n",
    "\n",
    "print(\"List of squares of numbers from 0 to 9 (without using List Comprehension) : \", list_6)"
   ]
  },
  {
   "cell_type": "markdown",
   "metadata": {},
   "source": [
    "### 16) WAP to create a new list (fruit whose name starts with 'b') from the list of fruits given by user."
   ]
  },
  {
   "cell_type": "code",
   "execution_count": 8,
   "metadata": {},
   "outputs": [
    {
     "name": "stdout",
     "output_type": "stream",
     "text": [
      "Enter the number of fruits in the list :  3\n",
      "Enter 1 the fruit :  Mango\n",
      "Enter 2 the fruit :  Banana\n",
      "Enter 3 the fruit :  banana\n"
     ]
    },
    {
     "name": "stdout",
     "output_type": "stream",
     "text": [
      "List of fruits starting with 'b' or 'B' :  ['banana']\n"
     ]
    }
   ],
   "source": [
    "List_7 = []\n",
    "\n",
    "length = int(input(\"Enter the number of fruits in the list : \"))\n",
    "for i in range(length):\n",
    "    fruit = input(f\"Enter {i+1} the fruit : \")\n",
    "    List_7.append(fruit)\n",
    "\n",
    "list_8 = [ i for i in List_7 if i.startswith('b')]\n",
    "\n",
    "print(\"List of fruits starting with 'b' or 'B' : \", list_8)\n"
   ]
  },
  {
   "cell_type": "markdown",
   "metadata": {},
   "source": [
    "### 17) WAP to create a list of common elements from given two lists."
   ]
  },
  {
   "cell_type": "code",
   "execution_count": 13,
   "metadata": {},
   "outputs": [
    {
     "name": "stdout",
     "output_type": "stream",
     "text": [
      "Enter the number of elements of the 1st list :  4\n",
      "Enter 1 the element :  1\n",
      "Enter 2 the element :  2\n",
      "Enter 3 the element :  3\n",
      "Enter 4 the element :  4\n",
      "Enter the number of elements of the 2nd list :  2\n",
      "Enter 1 the element :  2\n",
      "Enter 2 the element :  4\n"
     ]
    },
    {
     "name": "stdout",
     "output_type": "stream",
     "text": [
      "Common elements in the two lists :  [2, 4]\n"
     ]
    }
   ],
   "source": [
    "list_9 = []\n",
    "length1 = int(input(\"Enter the number of elements of the 1st list : \"))\n",
    "for i in range(length1):\n",
    "    element = int(input(f\"Enter {i+1} the element : \"))\n",
    "    list_9.append(element)\n",
    "\n",
    "list_10 = []\n",
    "length2 = int(input(\"Enter the number of elements of the 2nd list : \"))\n",
    "for i in range(length2):\n",
    "    element = int(input(f\"Enter {i+1} the element : \"))\n",
    "    list_10.append(element)\n",
    "\n",
    "result_list = [i for i in list_9 if i in list_10]\n",
    "\n",
    "print(\"Common elements in the two lists : \", result_list)"
   ]
  }
 ],
 "metadata": {
  "kernelspec": {
   "display_name": "Python 3",
   "language": "python",
   "name": "python3"
  },
  "language_info": {
   "codemirror_mode": {
    "name": "ipython",
    "version": 3
   },
   "file_extension": ".py",
   "mimetype": "text/x-python",
   "name": "python",
   "nbconvert_exporter": "python",
   "pygments_lexer": "ipython3",
   "version": "3.12.1"
  }
 },
 "nbformat": 4,
 "nbformat_minor": 4
}
