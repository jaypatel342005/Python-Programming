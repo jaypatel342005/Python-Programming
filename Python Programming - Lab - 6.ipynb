{
 "cells": [
  {
   "attachments": {},
   "cell_type": "markdown",
   "metadata": {},
   "source": [
    "<a href='https://www.darshan.ac.in/'> <img src='https://www.darshan.ac.in/Content/media/DU_Logo.svg' width=\"250\" height=\"300\"/></a>\n",
    "<pre>\n",
    "<center><b><h1>Python Programming - 2301CS404</b></center>\n",
    "<center><b><h1>Lab - 6</b></center>    \n",
    "<pre>"
   ]
  },
  {
   "cell_type": "markdown",
   "metadata": {},
   "source": [
    "# Tuple"
   ]
  },
  {
   "cell_type": "markdown",
   "metadata": {},
   "source": [
    "### 01) WAP to find sum of tuple elements."
   ]
  },
  {
   "cell_type": "code",
   "execution_count": 1,
   "metadata": {},
   "outputs": [
    {
     "name": "stdout",
     "output_type": "stream",
     "text": [
      "sum of tuple is:  21\n"
     ]
    }
   ],
   "source": [
    "t1 = (1, 2, 3, 4, 5, 6)\n",
    "sum = 0\n",
    "for i in t1:\n",
    "    sum += i\n",
    "\n",
    "print(\"sum of tuple is: \", sum)\n"
   ]
  },
  {
   "cell_type": "markdown",
   "metadata": {},
   "source": [
    "### 02) WAP to find Maximum and Minimum K elements in a given tuple."
   ]
  },
  {
   "cell_type": "code",
   "execution_count": 2,
   "metadata": {},
   "outputs": [
    {
     "name": "stdin",
     "output_type": "stream",
     "text": [
      "enter number to find maximum element 3\n"
     ]
    },
    {
     "name": "stdout",
     "output_type": "stream",
     "text": [
      "max of tuple is:  [8, 9, 10]\n",
      "min of tuple is:  [1, 2, 3]\n"
     ]
    }
   ],
   "source": [
    "t2 = (1, 2, 3, 4, 5, 6, 7 ,8, 9, 10)\n",
    "\n",
    "k = int(input(\"enter number to find maximum element\"))\n",
    "\n",
    "l1 = list(t2)\n",
    "l1.sort()\n",
    "\n",
    "max = l1[-k:]\n",
    "min = l1[:k]\n",
    "print(\"max of tuple is: \", max)\n",
    "print(\"min of tuple is: \", min)"
   ]
  },
  {
   "cell_type": "markdown",
   "metadata": {},
   "source": [
    "### 03) WAP to find tuples which have all elements divisible by K from a list of tuples."
   ]
  },
  {
   "cell_type": "code",
   "execution_count": 3,
   "metadata": {},
   "outputs": [
    {
     "name": "stdin",
     "output_type": "stream",
     "text": [
      "enter number to find maximum element 2\n"
     ]
    },
    {
     "name": "stdout",
     "output_type": "stream",
     "text": [
      "Tuples with all elements divisible by 2 : [(10, 20, 30), (2, 4, 6)]\n"
     ]
    }
   ],
   "source": [
    "list_of_tuples = [(10, 20, 30), (5, 10, 15), (2, 4, 6), (3, 6, 9)]\n",
    "\n",
    "k = int(input(\"enter number to find maximum element\"))\n",
    "\n",
    "divisible_tuples = [t for t in list_of_tuples if all(x % k == 0 for x in t)]\n",
    "print(\"Tuples with all elements divisible by\", k, \":\", divisible_tuples)\n"
   ]
  },
  {
   "cell_type": "markdown",
   "metadata": {},
   "source": [
    "### 04) WAP to create a list of tuples from given list having number and its cube in each tuple."
   ]
  },
  {
   "cell_type": "code",
   "execution_count": 4,
   "metadata": {},
   "outputs": [
    {
     "name": "stdout",
     "output_type": "stream",
     "text": [
      "List of tuples with number and its cube:  [(1, 1), (2, 8), (3, 27), (4, 64), (5, 125)]\n",
      "List of tuples with number and its cube:  [(1, 1), (2, 8), (3, 27), (4, 64), (5, 125)]\n"
     ]
    }
   ],
   "source": [
    "l1 = [1, 2, 3, 4, 5]\n",
    "cubes = [(num, num**3) for num in l1]\n",
    "l2 =[]\n",
    "for i in l1:\n",
    "    l2.append((i, i**3))\n",
    "print(\"List of tuples with number and its cube: \", cubes)\n",
    "print(\"List of tuples with number and its cube: \", l2)"
   ]
  },
  {
   "cell_type": "markdown",
   "metadata": {},
   "source": [
    "### 05) WAP to find tuples with all positive elements from the given list of tuples."
   ]
  },
  {
   "cell_type": "code",
   "execution_count": 5,
   "metadata": {},
   "outputs": [
    {
     "name": "stdout",
     "output_type": "stream",
     "text": [
      "Tuples with all positive elements:  [(1, 4, 6, 1, 3), (2, 4, 6, 8, 10)]\n"
     ]
    }
   ],
   "source": [
    "l3 = [(1, 4, 6, 1, 3), (-1, 3, 5, 7, 9), (2, 4, 6, 8, 10), (1, -3, 5, 7, 9)]\n",
    "positive_tuples = [t for t in l3 if all(x > 0 for x in t)]\n",
    "# for i in l3:\n",
    "#     if all(x > 0 for x in i):\n",
    "#         positive_tuples.append(i)\n",
    "print(\"Tuples with all positive elements: \", positive_tuples)"
   ]
  },
  {
   "cell_type": "code",
   "execution_count": 6,
   "metadata": {},
   "outputs": [
    {
     "name": "stdout",
     "output_type": "stream",
     "text": [
      "Tuples with all positive elements:  [(1, 4, 6, 1, 3), (2, 4, 6, 8, 10)]\n"
     ]
    }
   ],
   "source": [
    "l3 = [(1,4,6,1,3),(-1,3,5,7,9),(2,4,6,8,10),(1,-3,5,7,9)]\n",
    "positive_tuples = []\n",
    "for t in l3:\n",
    "    all_positive = True\n",
    "    for x in t:\n",
    "        if x <= 0:\n",
    "            all_positive = False\n",
    "            break\n",
    "    if all_positive:\n",
    "        positive_tuples.append(t)\n",
    "\n",
    "print(\"Tuples with all positive elements: \", positive_tuples)"
   ]
  },
  {
   "cell_type": "markdown",
   "metadata": {},
   "source": [
    "### 06) WAP to add tuple to list and vice – versa."
   ]
  },
  {
   "cell_type": "code",
   "execution_count": 10,
   "metadata": {},
   "outputs": [
    {
     "name": "stdout",
     "output_type": "stream",
     "text": [
      "List after adding tuple: [1, 2, 3, 4, 5, (11, 12)]\n",
      "Tuple after adding list: (6, 7, 8, 9, 10, [13, 14])\n"
     ]
    }
   ],
   "source": [
    "\n",
    "l1 = [1, 2, 3, 4, 5]  \n",
    "t2 = (6, 7, 8, 9, 10)  \n",
    "\n",
    "\n",
    "tuple_to_add = (11, 12)\n",
    "l1.append(tuple_to_add)\n",
    "print(\"List after adding tuple:\", l1)\n",
    "\n",
    "\n",
    "list_to_add = [13, 14]\n",
    "t2_extended = t2 + (list_to_add,)\n",
    "print(\"Tuple after adding list:\", t2_extended)"
   ]
  },
  {
   "cell_type": "markdown",
   "metadata": {},
   "source": [
    "### 07) WAP to remove tuples of length K."
   ]
  },
  {
   "cell_type": "code",
   "execution_count": 7,
   "metadata": {},
   "outputs": [
    {
     "name": "stdin",
     "output_type": "stream",
     "text": [
      "enter number  to add to list :  3\n"
     ]
    },
    {
     "name": "stdout",
     "output_type": "stream",
     "text": [
      "List after removing tuples of length 3 : [(1, 4, 6, 1, 3), (2, 4, 6, 8, 10), (1, -3), (2, 4, 6, 8)]\n"
     ]
    }
   ],
   "source": [
    "list_of_tuples = [(1,4,6,1,3),(-1,3,5),(2,4,6,8,10),(1,-3),(2,4,6,8)]\n",
    "k = int(input(\"enter number  to add to list : \"))\n",
    "filtered_tuples = [t for t in list_of_tuples if len(t) != k]\n",
    "print(\"List after removing tuples of length\", k, \":\", filtered_tuples)"
   ]
  },
  {
   "cell_type": "markdown",
   "metadata": {},
   "source": [
    "### 08) WAP to remove duplicates from tuple."
   ]
  },
  {
   "cell_type": "code",
   "execution_count": 8,
   "metadata": {},
   "outputs": [
    {
     "name": "stdout",
     "output_type": "stream",
     "text": [
      "Tuple after removing duplicates:  (1, 2, 3, 4, 5, 6, 7, 8, 9, 10)\n"
     ]
    }
   ],
   "source": [
    "t6 = (1,1,2,3,3,4,4,5,5,6,6,6,7,7,8,8,9,9,10,10)\n",
    "t7 = tuple(set(t6))\n",
    "print(\"Tuple after removing duplicates: \", t7)"
   ]
  },
  {
   "cell_type": "markdown",
   "metadata": {},
   "source": [
    "### 09) WAP to multiply adjacent elements of a tuple and print that resultant tuple."
   ]
  },
  {
   "cell_type": "code",
   "execution_count": 9,
   "metadata": {},
   "outputs": [
    {
     "name": "stdout",
     "output_type": "stream",
     "text": [
      "Tuple after multiplying adjacent elements:  (2, 6, 12, 20, 30, 42, 56, 72, 90)\n"
     ]
    }
   ],
   "source": [
    "t8 = (1, 2, 3, 4, 5, 6, 7, 8, 9, 10)\n",
    "l8 = list(t8)\n",
    "t9 = ()\n",
    "\n",
    "for i in range(0, len(l8)-1):\n",
    "    t9 = t9 + (l8[i] * l8[i+1],)\n",
    "\n",
    "print(\"Tuple after multiplying adjacent elements: \", t9)"
   ]
  },
  {
   "cell_type": "markdown",
   "metadata": {},
   "source": [
    "### 10) WAP to test if the given tuple is distinct or not."
   ]
  },
  {
   "cell_type": "code",
   "execution_count": 10,
   "metadata": {},
   "outputs": [
    {
     "name": "stdout",
     "output_type": "stream",
     "text": [
      "tuple is distinct\n"
     ]
    }
   ],
   "source": [
    "t10 = (1, 2, 3, 4, 5, 6, 7, 8, 9, 10)\n",
    "if len(t10) == len(set(t10)):\n",
    "    print(\"tuple is distinct\")\n",
    "else:\n",
    "    print(\"tuple is not distinct\")"
   ]
  },
  {
   "cell_type": "code",
   "execution_count": null,
   "metadata": {},
   "outputs": [],
   "source": []
  }
 ],
 "metadata": {
  "kernelspec": {
   "display_name": "Python 3 (ipykernel)",
   "language": "python",
   "name": "python3"
  },
  "language_info": {
   "codemirror_mode": {
    "name": "ipython",
    "version": 3
   },
   "file_extension": ".py",
   "mimetype": "text/x-python",
   "name": "python",
   "nbconvert_exporter": "python",
   "pygments_lexer": "ipython3",
   "version": "3.12.7"
  }
 },
 "nbformat": 4,
 "nbformat_minor": 4
}
