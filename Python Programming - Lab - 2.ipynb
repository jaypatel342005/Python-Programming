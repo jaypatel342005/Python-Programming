{
 "cells": [
  {
   "cell_type": "markdown",
   "metadata": {},
   "source": [
    "\n",
    "<a href='https://www.darshan.ac.in/'> <img src='https://www.darshan.ac.in/Content/media/DU_Logo.svg' width=\"250\" height=\"300\"/></a>\n",
    "<pre>\n",
    "<center><b><h1>Python Programming - 2301CS404</b></center>\n",
    "<center><b><h1>Lab - 2</b></center>    \n",
    "<pre>"
   ]
  },
  {
   "cell_type": "markdown",
   "metadata": {},
   "source": [
    "# if..else.."
   ]
  },
  {
   "cell_type": "markdown",
   "metadata": {},
   "source": [
    "### 01) WAP to check whether the given number is positive or negative."
   ]
  },
  {
   "cell_type": "code",
   "execution_count": 1,
   "metadata": {},
   "outputs": [
    {
     "name": "stdout",
     "output_type": "stream",
     "text": [
      "entrer to check whether the given number is positive or negative :  2355\n"
     ]
    },
    {
     "name": "stdout",
     "output_type": "stream",
     "text": [
      "the number is positive\n"
     ]
    }
   ],
   "source": [
    "num1 = int(input(\"entrer to check whether the given number is positive or negative : \"))\n",
    "if num1 >= 0 :\n",
    "    print(\"the number is positive\")\n",
    "else : \n",
    "    print(\"the number is negative\")\n"
   ]
  },
  {
   "cell_type": "markdown",
   "metadata": {},
   "source": [
    "### 02) WAP to check whether the given number is odd or even."
   ]
  },
  {
   "cell_type": "code",
   "execution_count": 2,
   "metadata": {},
   "outputs": [
    {
     "name": "stdout",
     "output_type": "stream",
     "text": [
      "entrer to check whether the given number is odd or even :  18636\n"
     ]
    },
    {
     "name": "stdout",
     "output_type": "stream",
     "text": [
      "18636 is odd\n"
     ]
    }
   ],
   "source": [
    "num2 = int(input(\"entrer to check whether the given number is odd or even : \"))\n",
    "if num1 % 2 == 0:\n",
    "    print(num2,\"is even\")\n",
    "else : \n",
    "    print(num2,\"is odd\")\n"
   ]
  },
  {
   "cell_type": "markdown",
   "metadata": {},
   "source": [
    "### 03) WAP to find out largest number from given two numbers using simple if and ternary operator."
   ]
  },
  {
   "cell_type": "code",
   "execution_count": null,
   "metadata": {},
   "outputs": [
    {
     "name": "stdout",
     "output_type": "stream",
     "text": [
      "entrer the 1st no. find out largest number from given two :  202020\n",
      "entrer the 2nd no. find out largest number from given two :  10101010\n"
     ]
    },
    {
     "name": "stdout",
     "output_type": "stream",
     "text": [
      "10101010 is the largest number using simple if\n",
      "10101010 n2 is greater than n1 using ternary operator\n"
     ]
    }
   ],
   "source": [
    "n1 = int(input(\"entrer the 1st no. find out largest number from given two : \"))\n",
    "n2 = int(input(\"entrer the 2nd no. find out largest number from given two : \"))\n",
    "\n",
    "if n1 > n2:\n",
    "    print(n1,\"is the largest number using simple if\")\n",
    "\n",
    "elif n1 < n2:\n",
    "    print(n2,\"is the largest number using simple if\")\n",
    "else : \n",
    "    print(\"both numbers are the same\")\n",
    "\n",
    "print(\"Both are equal\" if n1 == n2 else \"n1 is greater than n2 using ternary operator\"\n",
    "      if n1 > n2 else \"n2 is greater than n1 using ternary operator\")\n",
    "\n"
   ]
  },
  {
   "cell_type": "markdown",
   "metadata": {},
   "source": [
    "### 04) WAP to find out largest number from given three numbers."
   ]
  },
  {
   "cell_type": "code",
   "execution_count": 3,
   "metadata": {},
   "outputs": [
    {
     "name": "stdout",
     "output_type": "stream",
     "text": [
      "entrer the 1st no. find out largest number from given three :  38838\n",
      "entrer the 2nd no. find out largest number from given three :  2948\n",
      "entrer the 3rd no. find out largest number from given three :  493949\n"
     ]
    },
    {
     "name": "stdout",
     "output_type": "stream",
     "text": [
      "the largest number is 493949\n"
     ]
    }
   ],
   "source": [
    "a1 = int(input(\"entrer the 1st no. find out largest number from given three : \"))\n",
    "a2 = int(input(\"entrer the 2nd no. find out largest number from given three : \"))\n",
    "a3 = int(input(\"entrer the 3rd no. find out largest number from given three : \"))\n",
    "if a1 >= a2 :\n",
    "    if a1 >= a3 :\n",
    "        print(\"the largest number is\",a1)\n",
    "    else :\n",
    "        print(\"the largest number is\",a3)\n",
    "else :\n",
    "    if a2 >= a3 :\n",
    "        print(\"the largest number is\",a2)\n",
    "    else :\n",
    "        print(\"the largest number is\",a3)"
   ]
  },
  {
   "cell_type": "markdown",
   "metadata": {},
   "source": [
    "### 05) WAP to check whether the given year is leap year or not.\n",
    "[If a year can be divisible by 4 but not divisible by 100 then it is leap year but if it is divisible by 400 then it is leap year]"
   ]
  },
  {
   "cell_type": "code",
   "execution_count": null,
   "metadata": {},
   "outputs": [
    {
     "name": "stdout",
     "output_type": "stream",
     "text": [
      "entrer the year to check whether it is leap year or not :  2024\n"
     ]
    },
    {
     "name": "stdout",
     "output_type": "stream",
     "text": [
      "2024 is a leap year\n"
     ]
    }
   ],
   "source": [
    "year = int(input(\"entrer the year to check whether it is leap year or not : \"))\n",
    "if year % 4 == 0:\n",
    "    if year % 100 == 0:\n",
    "        if year % 400 == 0:\n",
    "            print(year,\"is a leap year\")\n",
    "        else :\n",
    "            print(year,\"is not a leap year\")\n",
    "    else :\n",
    "        print(year,\"is a leap year\")\n",
    "else :\n",
    "    print(year,\"is not a leap year\")\n"
   ]
  },
  {
   "cell_type": "markdown",
   "metadata": {},
   "source": [
    "### 06) WAP in python to display the name of the day according to the number given by the user."
   ]
  },
  {
   "cell_type": "code",
   "execution_count": 4,
   "metadata": {},
   "outputs": [
    {
     "name": "stdout",
     "output_type": "stream",
     "text": [
      "enter the number :  13\n"
     ]
    },
    {
     "name": "stdout",
     "output_type": "stream",
     "text": [
      "saturday\n"
     ]
    }
   ],
   "source": [
    "date = int(input(\"enter the number : \"))\n",
    "\n",
    "day = date%7\n",
    "\n",
    "if date == 0 :\n",
    "    print(\"sunday\")\n",
    "elif day == 1 :\n",
    "    print(\"monday\")\n",
    "elif day == 2 :\n",
    "    print(\"tuesday\")\n",
    "elif day == 3 :\n",
    "    print(\"wednesday\")\n",
    "elif day == 4 :\n",
    "    print(\"thursday\")\n",
    "elif day == 5 :\n",
    "    print(\"friday\")\n",
    "elif day == 6 :\n",
    "    print(\"saturday\")\n",
    "else :\n",
    "    print(\"invalid date\")"
   ]
  },
  {
   "cell_type": "markdown",
   "metadata": {},
   "source": [
    "### 07) WAP to implement simple calculator which performs (add,sub,mul,div) of two no. based on user input."
   ]
  },
  {
   "cell_type": "code",
   "execution_count": 5,
   "metadata": {},
   "outputs": [
    {
     "name": "stdout",
     "output_type": "stream",
     "text": [
      "enter the  1st number :  10\n",
      "enter the  2nd number :  30\n",
      "enter the operation (add + , sub - , mul * , div / ) :  *\n"
     ]
    },
    {
     "name": "stdout",
     "output_type": "stream",
     "text": [
      "10 * 30  =  300\n"
     ]
    }
   ],
   "source": [
    "no_1 = int(input(\"enter the  1st number : \"))\n",
    "no_2 = int(input(\"enter the  2nd number : \"))\n",
    "\n",
    "operation = input(\"enter the operation (add + , sub - , mul * , div / ) : \")\n",
    "\n",
    "if operation == '+':\n",
    "    print(no_1 , operation ,no_2 ,\" = \",no_1 + no_2)\n",
    "elif operation == '-':\n",
    "    print(no_1 , operation ,no_2 ,\" = \",no_1 - no_2)\n",
    "elif operation == '*':\n",
    "    print(no_1 , operation ,no_2 ,\" = \",no_1 * no_2)\n",
    "elif operation == '/':\n",
    "    if no_2 != 0:\n",
    "        print(no_1 , operation ,no_2 ,\" = \",no_1 / no_2)\n",
    "    else:\n",
    "        print(\"error : division by zero is not allowed\")\n",
    "else :\n",
    "    print(\"error : invalid operation\")\n",
    "\n",
    "\n"
   ]
  },
  {
   "cell_type": "markdown",
   "metadata": {},
   "source": [
    "### 08) WAP to read marks of five subjects. Calculate percentage and print class accordingly. \n",
    "Fail below 35 </br>\n",
    "Pass Class between 35 to 45 </br>\n",
    "Second Class</br>\n",
    "between 45 to 60</br>\n",
    "First Class between 60 to 70</br> \n",
    "Distinction if more than 70"
   ]
  },
  {
   "cell_type": "code",
   "execution_count": 6,
   "metadata": {},
   "outputs": [
    {
     "name": "stdout",
     "output_type": "stream",
     "text": [
      "enter the total marks obtained in 1st subject :  90\n",
      "enter the total marks obtained in 2nd subject :  80\n",
      "enter the total marks obtained in 3rd subject :  100\n",
      "enter the total marks obtained in 4th subject :  95\n",
      "enter the total marks obtained in 5th subject :  96\n"
     ]
    },
    {
     "name": "stdout",
     "output_type": "stream",
     "text": [
      "total marks obtained are ( from 500 ) :  461\n",
      "percentage obtained are :  92.2\n",
      "you are distinction\n"
     ]
    }
   ],
   "source": [
    "s1 = int(input(\"enter the total marks obtained in 1st subject : \"))\n",
    "s2 = int(input(\"enter the total marks obtained in 2nd subject : \"))\n",
    "s3 = int(input(\"enter the total marks obtained in 3rd subject : \"))\n",
    "s4 = int(input(\"enter the total marks obtained in 4th subject : \"))\n",
    "s5 = int(input(\"enter the total marks obtained in 5th subject : \"))\n",
    "\n",
    "total_marks = s1 + s2 + s3 + s4 + s5\n",
    "percentage = (total_marks / 500) * 100\n",
    "\n",
    "print(\"total marks obtained are ( from 500 ) : \",total_marks )\n",
    "print(\"percentage obtained are : \",percentage)\n",
    "\n",
    "if percentage < 35:\n",
    "    print(\"you are failed\")\n",
    "elif percentage >= 35 and percentage < 45:\n",
    "    print(\"you are pass\")\n",
    "elif percentage >= 45 and percentage < 60:\n",
    "    print(\"you are second class\")\n",
    "elif percentage >= 60 and percentage < 70:\n",
    "    print(\"you are first class\")\n",
    "elif percentage >= 70 and percentage <= 100:\n",
    "    print(\"you are distinction\")\n"
   ]
  },
  {
   "cell_type": "markdown",
   "metadata": {},
   "source": [
    "### 09) Three sides of a triangle are entered through the keyboard, WAP to check whether the triangle is isosceles, equilateral, scalene or right-angled triangle."
   ]
  },
  {
   "cell_type": "code",
   "execution_count": 7,
   "metadata": {},
   "outputs": [
    {
     "name": "stdout",
     "output_type": "stream",
     "text": [
      "Enter the first side of the triangle:  30\n",
      "Enter the second side of the triangle:  40\n",
      "Enter the third side of the triangle:  50\n"
     ]
    },
    {
     "name": "stdout",
     "output_type": "stream",
     "text": [
      "sides of triangle are  30 40 50\n",
      "The triangle is right-angled.\n"
     ]
    }
   ],
   "source": [
    "s_1 = int(input(\"Enter the first side of the triangle: \"))\n",
    "s_2 = int(input(\"Enter the second side of the triangle: \"))\n",
    "s_3 = int(input(\"Enter the third side of the triangle: \"))\n",
    "\n",
    "sides = [s_1, s_2, s_3] \n",
    "sides.sort() \n",
    "sides[0] ** 2 + sides[1] ** 2 == sides[2] ** 2\n",
    "\n",
    "print(\"sides of triangle are \" , s_1, s_2, s_3)\n",
    "\n",
    "if s_1 == s_2 and s_2 == s_3 :\n",
    "    print(\"The triangle is equilateral.\")\n",
    "elif s_1 == s_2 or s_1 == s_3 or s_2 == s_3:\n",
    "    print(\"The triangle is isosceles.\")\n",
    "elif sides[0] ** 2 + sides[1] ** 2 == sides[2] ** 2 : \n",
    "    print(\"The triangle is right-angled.\")\n",
    "else :\n",
    "    print(\"The triangle is scalene.\")\n"
   ]
  },
  {
   "cell_type": "markdown",
   "metadata": {},
   "source": [
    "### 10) WAP to find the second largest number among three user input numbers."
   ]
  },
  {
   "cell_type": "code",
   "execution_count": 2,
   "metadata": {},
   "outputs": [
    {
     "name": "stdout",
     "output_type": "stream",
     "text": [
      "entrer the 1st no. find out second largest number from given three :  200\n",
      "entrer the 2nd no. find out second largest number from given three :  300\n",
      "entrer the 3rd no. find out second largest number from given three :  400\n"
     ]
    },
    {
     "name": "stdout",
     "output_type": "stream",
     "text": [
      "the second largest number is 300\n"
     ]
    }
   ],
   "source": [
    "a1 = int(input(\"entrer the 1st no. find out second largest number from given three : \"))\n",
    "a2 = int(input(\"entrer the 2nd no. find out second largest number from given three : \"))\n",
    "a3 = int(input(\"entrer the 3rd no. find out second largest number from given three : \"))\n",
    "if a1 >= a2 :\n",
    "    if a1 >= a3 :\n",
    "        print(\"the second largest number is\",a3)\n",
    "    else :\n",
    "        print(\"the second largest number is\",a1)\n",
    "else :\n",
    "    if a2 >= a3 :\n",
    "        print(\"the second largest number is\",a3)\n",
    "    else :\n",
    "        print(\"the second largest number is\",a2)"
   ]
  },
  {
   "cell_type": "markdown",
   "metadata": {},
   "source": [
    "### 11) WAP to calculate electricity bill based on following criteria. Which takes the unit from the user.\n",
    "a. First 1 to 50 units – Rs. 2.60/unit</br>\n",
    "b. Next 50 to 100 units – Rs. 3.25/unit</br>\n",
    "c. Next 100 to 200 units – Rs. 5.26/unit</br>\n",
    "d. above 200 units – Rs. 8.45/unit"
   ]
  },
  {
   "cell_type": "code",
   "execution_count": 1,
   "metadata": {},
   "outputs": [
    {
     "name": "stdout",
     "output_type": "stream",
     "text": [
      "Enter the number of units consumed :  600\n"
     ]
    },
    {
     "name": "stdout",
     "output_type": "stream",
     "text": [
      "The bill is :  4198.5\n"
     ]
    }
   ],
   "source": [
    "unit = int(input(\"Enter the number of units consumed : \"))\n",
    "\n",
    "if unit <= 50:\n",
    "    print(\"The bill is : \", unit * 2.60)\n",
    "elif unit > 50 and unit <= 100:\n",
    "    print(\"The bill is : \", 50 * 2.60 + (unit - 50) * 3.25)\n",
    "elif unit > 100 and unit <= 200:\n",
    "    print(\"The bill is : \", 50 * 2.60 + 50 * 3.25 + (unit - 100) * 5.26)\n",
    "elif unit > 200:\n",
    "    print(\"The bill is : \", 50 * 2.60 + 50 * 3.25 + 100 * 5.26 + (unit - 200) * 8.45)"
   ]
  }
 ],
 "metadata": {
  "kernelspec": {
   "display_name": "Python 3",
   "language": "python",
   "name": "python3"
  },
  "language_info": {
   "codemirror_mode": {
    "name": "ipython",
    "version": 3
   },
   "file_extension": ".py",
   "mimetype": "text/x-python",
   "name": "python",
   "nbconvert_exporter": "python",
   "pygments_lexer": "ipython3",
   "version": "3.12.1"
  }
 },
 "nbformat": 4,
 "nbformat_minor": 4
}
